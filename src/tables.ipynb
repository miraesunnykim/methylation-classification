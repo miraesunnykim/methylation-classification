{
 "cells": [
  {
   "cell_type": "code",
   "execution_count": 1,
   "id": "a34c2753-b5a3-4355-8786-b63cf8e00d07",
   "metadata": {},
   "outputs": [
    {
     "name": "stdout",
     "output_type": "stream",
     "text": [
      "propagating with training.ID\n"
     ]
    }
   ],
   "source": [
    "import warnings\n",
    "warnings.filterwarnings('ignore')\n",
    "import joblib\n",
    "import sys\n",
    "sys.modules['sklearn.externals.joblib'] = joblib\n",
    "sys.path.append('./../src/')\n",
    "import dill\n",
    "from sklearn.svm import LinearSVC, SVC\n",
    "from sklearn.calibration import CalibratedClassifierCV\n",
    "from sklearn.multioutput import MultiOutputClassifier\n",
    "from sklearn.metrics import confusion_matrix, ConfusionMatrixDisplay\n",
    "from sklearn.preprocessing import MultiLabelBinarizer\n",
    "import utils\n",
    "from utils import id_to_name, name_to_id\n",
    "import pickle\n",
    "import random\n",
    "import networkx as nx\n",
    "import numpy as np\n",
    "import pandas as pd\n",
    "import matplotlib.pyplot as plt\n",
    "import seaborn as sns\n",
    "\n",
    "random.seed(9)\n",
    "np.random.seed(9)\n",
    "\n",
    "with open('./../annotation/ontologies.dill', 'rb') as f:\n",
    "    zero_tree, subtree = dill.load(f)\n",
    "\n",
    "mlb=utils.mlb\n",
    "\n",
    "Mv, meta = dill.load(open(f'./../data/GEO/preprocessed/training.dill', 'rb'))\n",
    "zeroshot_Mv, zeroshot_meta = dill.load(open(f'./../data/GEO/preprocessed/zeroshot.dill', 'rb'))\n",
    "\n",
    "meta_multi = utils.propagate_parent(subtree, meta, tissue_col='training.ID', outdict=False)\n",
    "meta_mlb = mlb.transform(meta_multi['training.ID'].values)"
   ]
  },
  {
   "cell_type": "code",
   "execution_count": 2,
   "id": "c30294c6-8ba8-48bf-a358-53d08037285d",
   "metadata": {},
   "outputs": [
    {
     "name": "stdout",
     "output_type": "stream",
     "text": [
      "55\n",
      "210\n"
     ]
    }
   ],
   "source": [
    "print(meta['training.ID'].nunique())\n",
    "print(meta['Dataset'].nunique())"
   ]
  },
  {
   "cell_type": "code",
   "execution_count": 3,
   "id": "dd8025c6-34b1-46ab-a945-48229643b0f2",
   "metadata": {},
   "outputs": [],
   "source": [
    "import pandas as pd\n",
    "\n",
    "df = pd.read_csv('/grain/rad4/quick/methyl-classification/id_display_mappings.txt', sep='\\t')\n",
    "id_to_color = pd.Series(df.color.values, index=df.ID).to_dict()"
   ]
  },
  {
   "cell_type": "code",
   "execution_count": 4,
   "id": "087d2187-ff15-4f1b-8d9b-26b49942aea4",
   "metadata": {},
   "outputs": [
    {
     "name": "stdout",
     "output_type": "stream",
     "text": [
      "['UBERON:0002204', 'UBERON:0002481', 'UBERON:0002371', 'UBERON:0002418', 'CL:0000056', 'UBERON:0004535', 'UBERON:8450002', 'UBERON:0002113', 'UBERON:0000483', 'UBERON:0001043', 'UBERON:0002424', 'UBERON:0005384', 'UBERON:0004802', 'UBERON:0001004', 'UBERON:0001005', 'UBERON:0002048', 'UBERON:0002050', 'UBERON:0001987', 'UBERON:0012168', 'UBERON:0002331', 'CL:0002322;BTO:0001086', 'UBERON:0002390', 'CL:0000576', 'CL:0000094', 'CL:0000542', 'CL:0000084', 'UBERON:0000178', 'CL:0000775', 'CL:2000001', 'CL:0000623', 'CL:0000738', 'CL:0000910;BTO:0000289', 'CL:0000236', 'UBERON:0000990', 'UBERON:0000079', 'UBERON:0002367', 'UBERON:0001295', 'UBERON:0003134', 'UBERON:0000002', 'CL:0000019', 'UBERON:0000992', 'UBERON:0003889', 'UBERON:0001032', 'UBERON:0000949', 'UBERON:0000006', 'UBERON:0002046', 'UBERON:0001264', 'UBERON:0002107', 'UBERON:0002330', 'UBERON:0000310', 'UBERON:0001836', 'UBERON:0001016', 'UBERON:0000955', 'UBERON:0001870', 'UBERON:0000956', 'UBERON:0000451', 'UBERON:0001871', 'UBERON:0002728', 'UBERON:0002037', 'UBERON:0002416', 'CL:0000148', 'UBERON:0002190', 'UBERON:0001013', 'UBERON:0035818', 'UBERON:0002097', 'UBERON:0001007', 'UBERON:0000059', 'UBERON:0001155', 'UBERON:0001052', 'UBERON:0000945', 'UBERON:0002384', 'CL:0000057']\n"
     ]
    }
   ],
   "source": [
    "# Combine descendants into a set while preserving order\n",
    "descendants_set = []\n",
    "system_to_children = dict()\n",
    "seen = set()\n",
    "for x in subtree.successors('root'):\n",
    "    descendants_set.append(x)\n",
    "    seen.add(x)\n",
    "    system_to_children[x] = list(nx.descendants(subtree, x)) + [x]\n",
    "    for descendant in nx.descendants(subtree, x):\n",
    "        if descendant not in seen:\n",
    "            descendants_set.append(descendant)\n",
    "            seen.add(descendant)\n",
    "\n",
    "print(descendants_set)"
   ]
  },
  {
   "cell_type": "code",
   "execution_count": 5,
   "id": "12235365-9621-44d4-a496-ff62b7d9c247",
   "metadata": {},
   "outputs": [
    {
     "name": "stdout",
     "output_type": "stream",
     "text": [
      "(10351, 297598)\n",
      "55\n",
      "73\n"
     ]
    }
   ],
   "source": [
    "print(Mv.shape)\n",
    "print(len(meta['training.ID'].unique()))\n",
    "print(len(subtree))"
   ]
  },
  {
   "cell_type": "code",
   "execution_count": 6,
   "id": "8dfd7218-a47b-4288-aaae-fb735e43b138",
   "metadata": {},
   "outputs": [
    {
     "name": "stdout",
     "output_type": "stream",
     "text": [
      "loading minipatch selector from ./../data/GEO/minipatch/minipatch_whole_selector\n",
      "(10351, 190)\n"
     ]
    }
   ],
   "source": [
    "filename = f\"_whole\"\n",
    "minipatch_location = f\"./../data/GEO/minipatch/minipatch{filename}_selector\"\n",
    "print(f\"loading minipatch selector from {minipatch_location}\")\n",
    "fitted_selector = dill.load(open(minipatch_location, 'rb'))\n",
    "\n",
    "selection_frequency_threshold = 0.65\n",
    "selection_freq = pd.DataFrame(fitted_selector.Pi_hat_last_k_, index=Mv.columns)\n",
    "minipatch_probes = list(selection_freq[selection_freq[0]>=selection_frequency_threshold].index)\n",
    "Mv_minipatch = Mv45 = Mv[minipatch_probes]\n",
    "print(Mv_minipatch.shape)"
   ]
  },
  {
   "cell_type": "code",
   "execution_count": 13,
   "id": "9c36d728-acad-4764-a49a-ac34980bc7bb",
   "metadata": {},
   "outputs": [
    {
     "data": {
      "text/plain": [
       "9046"
      ]
     },
     "execution_count": 13,
     "metadata": {},
     "output_type": "execute_result"
    }
   ],
   "source": [
    "np.sum(meta['UBERON.ID']==meta['training.ID'])"
   ]
  },
  {
   "cell_type": "code",
   "execution_count": 8,
   "id": "9aaa8734-ae1e-45a4-8017-9617cea2abdd",
   "metadata": {},
   "outputs": [
    {
     "data": {
      "text/html": [
       "<div>\n",
       "<style scoped>\n",
       "    .dataframe tbody tr th:only-of-type {\n",
       "        vertical-align: middle;\n",
       "    }\n",
       "\n",
       "    .dataframe tbody tr th {\n",
       "        vertical-align: top;\n",
       "    }\n",
       "\n",
       "    .dataframe thead th {\n",
       "        text-align: right;\n",
       "    }\n",
       "</style>\n",
       "<table border=\"1\" class=\"dataframe\">\n",
       "  <thead>\n",
       "    <tr style=\"text-align: right;\">\n",
       "      <th></th>\n",
       "      <th>Dataset</th>\n",
       "      <th>Annotated.tissue</th>\n",
       "      <th>UBERON.ID</th>\n",
       "      <th>UBERON.Name</th>\n",
       "      <th>Display.Name</th>\n",
       "      <th>merged.ID</th>\n",
       "      <th>training.ID</th>\n",
       "      <th>File</th>\n",
       "      <th>FileSeries</th>\n",
       "    </tr>\n",
       "    <tr>\n",
       "      <th>Sample</th>\n",
       "      <th></th>\n",
       "      <th></th>\n",
       "      <th></th>\n",
       "      <th></th>\n",
       "      <th></th>\n",
       "      <th></th>\n",
       "      <th></th>\n",
       "      <th></th>\n",
       "      <th></th>\n",
       "    </tr>\n",
       "  </thead>\n",
       "  <tbody>\n",
       "    <tr>\n",
       "      <th>GSM2859937</th>\n",
       "      <td>GSE107038</td>\n",
       "      <td>liver</td>\n",
       "      <td>UBERON:0002107</td>\n",
       "      <td>liver</td>\n",
       "      <td>liver</td>\n",
       "      <td>UBERON:0002107</td>\n",
       "      <td>UBERON:0002107</td>\n",
       "      <td>raw/GEO/GSE107038/GSM2859937_10003886118_R03C02</td>\n",
       "      <td>GSE107038</td>\n",
       "    </tr>\n",
       "    <tr>\n",
       "      <th>GSM2859938</th>\n",
       "      <td>GSE107038</td>\n",
       "      <td>liver</td>\n",
       "      <td>UBERON:0002107</td>\n",
       "      <td>liver</td>\n",
       "      <td>liver</td>\n",
       "      <td>UBERON:0002107</td>\n",
       "      <td>UBERON:0002107</td>\n",
       "      <td>raw/GEO/GSE107038/GSM2859938_10003886118_R04C02</td>\n",
       "      <td>GSE107038</td>\n",
       "    </tr>\n",
       "    <tr>\n",
       "      <th>GSM2859939</th>\n",
       "      <td>GSE107038</td>\n",
       "      <td>liver</td>\n",
       "      <td>UBERON:0002107</td>\n",
       "      <td>liver</td>\n",
       "      <td>liver</td>\n",
       "      <td>UBERON:0002107</td>\n",
       "      <td>UBERON:0002107</td>\n",
       "      <td>raw/GEO/GSE107038/GSM2859939_10003886118_R05C02</td>\n",
       "      <td>GSE107038</td>\n",
       "    </tr>\n",
       "    <tr>\n",
       "      <th>GSM2859940</th>\n",
       "      <td>GSE107038</td>\n",
       "      <td>liver</td>\n",
       "      <td>UBERON:0002107</td>\n",
       "      <td>liver</td>\n",
       "      <td>liver</td>\n",
       "      <td>UBERON:0002107</td>\n",
       "      <td>UBERON:0002107</td>\n",
       "      <td>raw/GEO/GSE107038/GSM2859940_10003886118_R06C02</td>\n",
       "      <td>GSE107038</td>\n",
       "    </tr>\n",
       "    <tr>\n",
       "      <th>GSM2859941</th>\n",
       "      <td>GSE107038</td>\n",
       "      <td>liver</td>\n",
       "      <td>UBERON:0002107</td>\n",
       "      <td>liver</td>\n",
       "      <td>liver</td>\n",
       "      <td>UBERON:0002107</td>\n",
       "      <td>UBERON:0002107</td>\n",
       "      <td>raw/GEO/GSE107038/GSM2859941_10003886150_R01C01</td>\n",
       "      <td>GSE107038</td>\n",
       "    </tr>\n",
       "    <tr>\n",
       "      <th>...</th>\n",
       "      <td>...</td>\n",
       "      <td>...</td>\n",
       "      <td>...</td>\n",
       "      <td>...</td>\n",
       "      <td>...</td>\n",
       "      <td>...</td>\n",
       "      <td>...</td>\n",
       "      <td>...</td>\n",
       "      <td>...</td>\n",
       "    </tr>\n",
       "    <tr>\n",
       "      <th>GSM3080996</th>\n",
       "      <td>GSE112696</td>\n",
       "      <td>t cell</td>\n",
       "      <td>CL:0000084</td>\n",
       "      <td>T cell</td>\n",
       "      <td>T cell</td>\n",
       "      <td>CL:0000084</td>\n",
       "      <td>CL:0000084</td>\n",
       "      <td>raw/GEO/GSE112696/GSM3080996_3998920058_R01C02</td>\n",
       "      <td>GSE112696</td>\n",
       "    </tr>\n",
       "    <tr>\n",
       "      <th>GSM3080997</th>\n",
       "      <td>GSE112696</td>\n",
       "      <td>t cell</td>\n",
       "      <td>CL:0000084</td>\n",
       "      <td>T cell</td>\n",
       "      <td>T cell</td>\n",
       "      <td>CL:0000084</td>\n",
       "      <td>CL:0000084</td>\n",
       "      <td>raw/GEO/GSE112696/GSM3080997_3998920058_R03C02</td>\n",
       "      <td>GSE112696</td>\n",
       "    </tr>\n",
       "    <tr>\n",
       "      <th>GSM3080998</th>\n",
       "      <td>GSE112696</td>\n",
       "      <td>t cell</td>\n",
       "      <td>CL:0000084</td>\n",
       "      <td>T cell</td>\n",
       "      <td>T cell</td>\n",
       "      <td>CL:0000084</td>\n",
       "      <td>CL:0000084</td>\n",
       "      <td>raw/GEO/GSE112696/GSM3080998_3998920058_R05C02</td>\n",
       "      <td>GSE112696</td>\n",
       "    </tr>\n",
       "    <tr>\n",
       "      <th>GSM3081000</th>\n",
       "      <td>GSE112696</td>\n",
       "      <td>t cell</td>\n",
       "      <td>CL:0000084</td>\n",
       "      <td>T cell</td>\n",
       "      <td>T cell</td>\n",
       "      <td>CL:0000084</td>\n",
       "      <td>CL:0000084</td>\n",
       "      <td>raw/GEO/GSE112696/GSM3081000_200400320036_R03C01</td>\n",
       "      <td>GSE112696</td>\n",
       "    </tr>\n",
       "    <tr>\n",
       "      <th>GSM3081001</th>\n",
       "      <td>GSE112696</td>\n",
       "      <td>t cell</td>\n",
       "      <td>CL:0000084</td>\n",
       "      <td>T cell</td>\n",
       "      <td>T cell</td>\n",
       "      <td>CL:0000084</td>\n",
       "      <td>CL:0000084</td>\n",
       "      <td>raw/GEO/GSE112696/GSM3081001_200400320036_R05C01</td>\n",
       "      <td>GSE112696</td>\n",
       "    </tr>\n",
       "  </tbody>\n",
       "</table>\n",
       "<p>10351 rows × 9 columns</p>\n",
       "</div>"
      ],
      "text/plain": [
       "              Dataset Annotated.tissue       UBERON.ID UBERON.Name  \\\n",
       "Sample                                                               \n",
       "GSM2859937  GSE107038            liver  UBERON:0002107       liver   \n",
       "GSM2859938  GSE107038            liver  UBERON:0002107       liver   \n",
       "GSM2859939  GSE107038            liver  UBERON:0002107       liver   \n",
       "GSM2859940  GSE107038            liver  UBERON:0002107       liver   \n",
       "GSM2859941  GSE107038            liver  UBERON:0002107       liver   \n",
       "...               ...              ...             ...         ...   \n",
       "GSM3080996  GSE112696           t cell      CL:0000084      T cell   \n",
       "GSM3080997  GSE112696           t cell      CL:0000084      T cell   \n",
       "GSM3080998  GSE112696           t cell      CL:0000084      T cell   \n",
       "GSM3081000  GSE112696           t cell      CL:0000084      T cell   \n",
       "GSM3081001  GSE112696           t cell      CL:0000084      T cell   \n",
       "\n",
       "           Display.Name       merged.ID     training.ID  \\\n",
       "Sample                                                    \n",
       "GSM2859937        liver  UBERON:0002107  UBERON:0002107   \n",
       "GSM2859938        liver  UBERON:0002107  UBERON:0002107   \n",
       "GSM2859939        liver  UBERON:0002107  UBERON:0002107   \n",
       "GSM2859940        liver  UBERON:0002107  UBERON:0002107   \n",
       "GSM2859941        liver  UBERON:0002107  UBERON:0002107   \n",
       "...                 ...             ...             ...   \n",
       "GSM3080996       T cell      CL:0000084      CL:0000084   \n",
       "GSM3080997       T cell      CL:0000084      CL:0000084   \n",
       "GSM3080998       T cell      CL:0000084      CL:0000084   \n",
       "GSM3081000       T cell      CL:0000084      CL:0000084   \n",
       "GSM3081001       T cell      CL:0000084      CL:0000084   \n",
       "\n",
       "                                                        File FileSeries  \n",
       "Sample                                                                   \n",
       "GSM2859937   raw/GEO/GSE107038/GSM2859937_10003886118_R03C02  GSE107038  \n",
       "GSM2859938   raw/GEO/GSE107038/GSM2859938_10003886118_R04C02  GSE107038  \n",
       "GSM2859939   raw/GEO/GSE107038/GSM2859939_10003886118_R05C02  GSE107038  \n",
       "GSM2859940   raw/GEO/GSE107038/GSM2859940_10003886118_R06C02  GSE107038  \n",
       "GSM2859941   raw/GEO/GSE107038/GSM2859941_10003886150_R01C01  GSE107038  \n",
       "...                                                      ...        ...  \n",
       "GSM3080996    raw/GEO/GSE112696/GSM3080996_3998920058_R01C02  GSE112696  \n",
       "GSM3080997    raw/GEO/GSE112696/GSM3080997_3998920058_R03C02  GSE112696  \n",
       "GSM3080998    raw/GEO/GSE112696/GSM3080998_3998920058_R05C02  GSE112696  \n",
       "GSM3081000  raw/GEO/GSE112696/GSM3081000_200400320036_R03C01  GSE112696  \n",
       "GSM3081001  raw/GEO/GSE112696/GSM3081001_200400320036_R05C01  GSE112696  \n",
       "\n",
       "[10351 rows x 9 columns]"
      ]
     },
     "execution_count": 8,
     "metadata": {},
     "output_type": "execute_result"
    }
   ],
   "source": [
    "meta.drop(columns=['Unnamed: 0', 'File','FileSeries'])"
   ]
  }
 ],
 "metadata": {
  "kernelspec": {
   "display_name": "methyl",
   "language": "python",
   "name": "methyl"
  },
  "language_info": {
   "codemirror_mode": {
    "name": "ipython",
    "version": 3
   },
   "file_extension": ".py",
   "mimetype": "text/x-python",
   "name": "python",
   "nbconvert_exporter": "python",
   "pygments_lexer": "ipython3",
   "version": "3.8.19"
  }
 },
 "nbformat": 4,
 "nbformat_minor": 5
}
