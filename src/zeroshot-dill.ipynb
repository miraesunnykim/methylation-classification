{
 "cells": [
  {
   "cell_type": "code",
   "execution_count": 1,
   "id": "2a5a5ba9-a99a-4689-a71c-f192b5c83c5a",
   "metadata": {},
   "outputs": [
    {
     "name": "stdout",
     "output_type": "stream",
     "text": [
      "(299347, 7025) (6631, 9)\n"
     ]
    }
   ],
   "source": [
    "import dill\n",
    "\n",
    "name_to_id = dill.load(open(\"./../annotation/name_to_id.dill\",\"rb\"))\n",
    "id_to_name = dill.load(open(\"./../annotation/id_to_name.dill\",\"rb\"))\n",
    "\n",
    "from sklearn.model_selection import StratifiedGroupKFold\n",
    "import random\n",
    "import numpy as np\n",
    "import pyarrow.parquet as pq\n",
    "import pandas as pd\n",
    "\n",
    "# Load the data using pyarrow for faster reading\n",
    "file_path = './../data/GEO/preprocessed/zeroshot_Mvalues.parquet'\n",
    "table = pq.read_table(file_path)\n",
    "\n",
    "# Convert to pandas DataFrame if needed\n",
    "Mv = table.to_pandas().set_index('probe')\n",
    "Mv.columns = Mv.columns.str.split('_').str[0]\n",
    "meta = pd.read_csv('./../annotation/zeroshot_meta.csv', header=0, index_col='Sample')\n",
    "\n",
    "print(Mv.shape, meta.shape)"
   ]
  },
  {
   "cell_type": "code",
   "execution_count": 2,
   "id": "a095ecf2-b011-47f7-8282-0c83a7199647",
   "metadata": {},
   "outputs": [
    {
     "data": {
      "text/plain": [
       "(10351, 10)"
      ]
     },
     "execution_count": 2,
     "metadata": {},
     "output_type": "execute_result"
    }
   ],
   "source": [
    "training_Mv, training_meta = dill.load(open(f'./../data/GEO/preprocessed/training.dill', 'rb'))\n",
    "training_meta.shape"
   ]
  },
  {
   "cell_type": "code",
   "execution_count": 3,
   "id": "2163758b-204f-4f82-9bf0-33fe5371db82",
   "metadata": {},
   "outputs": [
    {
     "name": "stdout",
     "output_type": "stream",
     "text": [
      "Sample overlap: set()\n"
     ]
    }
   ],
   "source": [
    "print(f\"Sample overlap: {set(training_meta.index).intersection(set(meta.index))}\")"
   ]
  },
  {
   "cell_type": "code",
   "execution_count": 4,
   "id": "7e16123c-c3f3-49b4-8d1b-366551b0c81b",
   "metadata": {},
   "outputs": [
    {
     "name": "stdout",
     "output_type": "stream",
     "text": [
      "Dataset overlap: {'GSE95761', 'GSE84743', 'GSE88824', 'GSE205661', 'GSE224807', 'GSE116754', 'GSE82084', 'GSE118260', 'GSE103413', 'GSE118696', 'GSE246935', 'GSE148021', 'GSE48472'}\n"
     ]
    }
   ],
   "source": [
    "print(f\"Dataset overlap: {set(training_meta.Dataset).intersection(set(meta.Dataset))}\")"
   ]
  },
  {
   "cell_type": "code",
   "execution_count": 5,
   "id": "14ea8e65-05e0-4bd0-8afb-d746922dc08c",
   "metadata": {},
   "outputs": [
    {
     "name": "stdout",
     "output_type": "stream",
     "text": [
      "Tissue overlap: set()\n"
     ]
    }
   ],
   "source": [
    "print(f\"Tissue overlap: {set(training_meta['merged.ID']).intersection(set(meta['merged.ID']))}\")"
   ]
  },
  {
   "cell_type": "code",
   "execution_count": 6,
   "id": "803b137d-8e3b-4883-9fe6-fcfc7d9764a9",
   "metadata": {},
   "outputs": [
    {
     "name": "stdout",
     "output_type": "stream",
     "text": [
      "contains fetal: \n",
      "Empty DataFrame\n",
      "Columns: [UBERON.ID, Annotated.tissue, Dataset, Disease, Normal, Platform, Treatment, idat_check, merged.ID]\n",
      "Index: []\n"
     ]
    }
   ],
   "source": [
    "print(\"contains fetal: \")\n",
    "print(meta[meta['Annotated.tissue'].str.contains('fetal', case=False, na=False)])"
   ]
  },
  {
   "cell_type": "code",
   "execution_count": 7,
   "id": "c0b20c7b-eeee-4d77-9028-d20c18fe44db",
   "metadata": {},
   "outputs": [
    {
     "name": "stdout",
     "output_type": "stream",
     "text": [
      "(6631, 297598) (6631, 9)\n"
     ]
    }
   ],
   "source": [
    "zeroshot_Mv = Mv.T.loc[meta.index, training_Mv.columns]\n",
    "zeroshot_meta = meta\n",
    "\n",
    "print(zeroshot_Mv.shape, zeroshot_meta.shape)"
   ]
  },
  {
   "cell_type": "code",
   "execution_count": 8,
   "id": "31425c30-9886-4574-b65e-099f2c9907c3",
   "metadata": {},
   "outputs": [],
   "source": [
    "with open(f'./../data/GEO/preprocessed/zeroshot.dill', 'wb') as f:\n",
    "    dill.dump([zeroshot_Mv, zeroshot_meta], f)"
   ]
  }
 ],
 "metadata": {
  "kernelspec": {
   "display_name": "methyl",
   "language": "python",
   "name": "methyl"
  },
  "language_info": {
   "codemirror_mode": {
    "name": "ipython",
    "version": 3
   },
   "file_extension": ".py",
   "mimetype": "text/x-python",
   "name": "python",
   "nbconvert_exporter": "python",
   "pygments_lexer": "ipython3",
   "version": "3.8.19"
  }
 },
 "nbformat": 4,
 "nbformat_minor": 5
}
