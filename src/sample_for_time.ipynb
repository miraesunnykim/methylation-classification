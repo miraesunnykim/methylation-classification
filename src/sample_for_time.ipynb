{
 "cells": [
  {
   "cell_type": "code",
   "execution_count": 1,
   "id": "578377ad-b136-4af2-901d-e8922a27fbec",
   "metadata": {},
   "outputs": [],
   "source": [
    "import dill"
   ]
  },
  {
   "cell_type": "code",
   "execution_count": 2,
   "id": "e5bda70e-2c1d-4410-883e-b3fb78c2fc1d",
   "metadata": {},
   "outputs": [
    {
     "name": "stdout",
     "output_type": "stream",
     "text": [
      "loading Mv, meta, mapping from ./../data/GEO/preprocessed/training.dill\n",
      "(10351, 297598) (10351, 10)\n"
     ]
    }
   ],
   "source": [
    "Mv_location = f\"./../data/GEO/preprocessed/training.dill\"\n",
    "print(f\"loading Mv, meta, mapping from {Mv_location}\")\n",
    "Mv, meta = dill.load(open(Mv_location, 'rb'))\n",
    "print(Mv.shape, meta.shape)"
   ]
  },
  {
   "cell_type": "code",
   "execution_count": 3,
   "id": "31f1cb27-c9a1-4424-b5a8-ce41b8af0ddb",
   "metadata": {},
   "outputs": [],
   "source": [
    "from sklearn.model_selection import StratifiedShuffleSplit"
   ]
  },
  {
   "cell_type": "code",
   "execution_count": 10,
   "id": "a7a8256f-1c8c-47be-9a0a-3448406d04cc",
   "metadata": {},
   "outputs": [
    {
     "name": "stdout",
     "output_type": "stream",
     "text": [
      "100\n",
      "Warning: Not all classes are represented in n=100, adjusting...\n",
      "500\n",
      "Warning: Not all classes are represented in n=500, adjusting...\n",
      "1000\n",
      "Warning: Not all classes are represented in n=1000, adjusting...\n",
      "5000\n",
      "10000\n"
     ]
    }
   ],
   "source": [
    "sampled_samples = {}\n",
    "\n",
    "for n in [100, 500, 1000, 5000, 10000]:\n",
    "    print(n)\n",
    "    sampled_index = []\n",
    "\n",
    "    stratified_splitter = StratifiedShuffleSplit(n_splits=10, test_size=n, random_state=9)  # More splits for better distribution\n",
    "\n",
    "    X = Mv  \n",
    "    y = meta['training.ID']  \n",
    "\n",
    "    for train_index, test_index in stratified_splitter.split(X, y):\n",
    "        sampled_index = list(X.iloc[test_index].index)\n",
    "\n",
    "        # Check if all classes are included\n",
    "        if len(set(y.iloc[test_index])) == len(set(y)):  \n",
    "            sampled_samples[n] = sampled_index\n",
    "            break  # Stop early if all classes are represented\n",
    "    \n",
    "    # If not all classes are included, force at least one sample per class\n",
    "    if len(set(y.loc[sampled_index])) < len(set(y)):\n",
    "        print(f\"Warning: Not all classes are represented in n={n}, adjusting...\")\n",
    "\n",
    "        class_samples = meta.groupby('training.ID').sample(n=1, random_state=9).index.tolist()\n",
    "        remaining_needed = n - len(class_samples)\n",
    "\n",
    "        additional_samples = list(set(sampled_index) - set(class_samples))[:remaining_needed]\n",
    "        sampled_samples[n] = class_samples + additional_samples"
   ]
  },
  {
   "cell_type": "code",
   "execution_count": 12,
   "id": "48d94e95-a45d-4ccd-8b5c-5daa9f8d0f58",
   "metadata": {},
   "outputs": [
    {
     "data": {
      "text/plain": [
       "[(100, 55), (500, 55), (1000, 55), (5000, 55), (10000, 55)]"
      ]
     },
     "execution_count": 12,
     "metadata": {},
     "output_type": "execute_result"
    }
   ],
   "source": [
    "[(len(idx), meta.loc[idx]['training.ID'].nunique()) for n, idx in sampled_samples.items()]"
   ]
  },
  {
   "cell_type": "code",
   "execution_count": 13,
   "id": "2e66b4b5-a3b6-4e89-bd3d-32e0dd39febf",
   "metadata": {},
   "outputs": [],
   "source": [
    "with open('./time/sampled_samples.dill', 'wb') as f:\n",
    "    dill.dump(sampled_samples, f)"
   ]
  },
  {
   "cell_type": "code",
   "execution_count": 6,
   "id": "b225bb38-710c-48e8-bd0a-b00829e83a53",
   "metadata": {},
   "outputs": [],
   "source": [
    "# sampled_samples = dict()\n",
    "# # Define the stratified splitter\n",
    "# stratified_splitter = StratifiedShuffleSplit(n_splits=5, test_size=int(n/fold_Mvs[f].shape[0]), random_state=9)\n",
    "# samples = list()\n",
    "\n",
    "# # Specify the features and the target variable\n",
    "# X = fold_Mvs[f][0]  # Features\n",
    "# y = fold_Mvs[f][1]['tissue_name']  # Target variable (metadata column)\n",
    "\n",
    "# # Perform the stratified split\n",
    "# for train_index, test_index in stratified_splitter.split(X, y):\n",
    "#     sampled_index = list(X.iloc[test_index].index)\n",
    "#     samples.append(sampled_index)\n",
    "\n",
    "# sampled_samples[n] = samples\n"
   ]
  },
  {
   "cell_type": "markdown",
   "id": "3a6ffd8f-f810-48e7-8fa4-c0148b7cd979",
   "metadata": {},
   "source": [
    "### over different number of samples"
   ]
  },
  {
   "cell_type": "code",
   "execution_count": null,
   "id": "a720f95f-cd3e-40df-87a2-03fbeccc9564",
   "metadata": {},
   "outputs": [],
   "source": []
  }
 ],
 "metadata": {
  "kernelspec": {
   "display_name": "methyl",
   "language": "python",
   "name": "methyl"
  },
  "language_info": {
   "codemirror_mode": {
    "name": "ipython",
    "version": 3
   },
   "file_extension": ".py",
   "mimetype": "text/x-python",
   "name": "python",
   "nbconvert_exporter": "python",
   "pygments_lexer": "ipython3",
   "version": "3.8.19"
  }
 },
 "nbformat": 4,
 "nbformat_minor": 5
}
