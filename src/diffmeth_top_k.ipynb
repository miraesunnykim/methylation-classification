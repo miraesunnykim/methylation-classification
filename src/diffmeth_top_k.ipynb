{
 "cells": [
  {
   "cell_type": "code",
   "execution_count": 2,
   "id": "9fb3a5df-0dcc-4c7a-822a-6e0f61ed6327",
   "metadata": {},
   "outputs": [],
   "source": [
    "import dill\n",
    "import pandas as pd\n",
    "from statsmodels.stats.multitest import multipletests"
   ]
  },
  {
   "cell_type": "code",
   "execution_count": 10,
   "id": "bd10581a-7768-42ab-aa90-6d4470e78ee2",
   "metadata": {},
   "outputs": [],
   "source": [
    "def load_diffmeth_results(fold):\n",
    "    \"\"\"Load differential methylation results for a fold.\"\"\"\n",
    "    return dill.load(open(f\"./../data/GEO/diffmeth/diffmeth_fold{fold}\", 'rb'))\n",
    "\n",
    "def get_significant_k_probes(res_per_tissue, k):\n",
    "    \"\"\"Get top 30 most significant probes for each tissue after multiple testing correction.\"\"\"\n",
    "    return {\n",
    "        tissue: list(tissue_res.loc[multipletests(tissue_res.PValue, alpha=0.05)[0]]\n",
    "                     .sort_values(\"PValue\")\n",
    "                     .head(k).index)\n",
    "        for tissue, tissue_res in res_per_tissue.items()\n",
    "    }"
   ]
  },
  {
   "cell_type": "code",
   "execution_count": 12,
   "id": "0acde48f-faeb-4087-af6e-4e735b5b7c97",
   "metadata": {},
   "outputs": [
    {
     "name": "stdout",
     "output_type": "stream",
     "text": [
      "30\n"
     ]
    }
   ],
   "source": [
    "for fold in range(3):\n",
    "\n",
    "    # Load differential methylation results\n",
    "    res_per_tissue = load_diffmeth_results(fold)\n",
    "    probe_per_tissue = get_significant_k_probes(res_per_tissue, 30)\n",
    "    print(min([len(probe) for tissue, probe in probe_per_tissue.items()]))\n",
    "\n",
    "    \n",
    "\n",
    "    break"
   ]
  },
  {
   "cell_type": "code",
   "execution_count": null,
   "id": "f34c8f56-3e18-4623-9fbd-d89a4d7a328c",
   "metadata": {},
   "outputs": [],
   "source": []
  }
 ],
 "metadata": {
  "kernelspec": {
   "display_name": "methyl",
   "language": "python",
   "name": "methyl"
  },
  "language_info": {
   "codemirror_mode": {
    "name": "ipython",
    "version": 3
   },
   "file_extension": ".py",
   "mimetype": "text/x-python",
   "name": "python",
   "nbconvert_exporter": "python",
   "pygments_lexer": "ipython3",
   "version": "3.8.19"
  }
 },
 "nbformat": 4,
 "nbformat_minor": 5
}
