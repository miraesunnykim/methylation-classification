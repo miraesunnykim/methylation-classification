{
 "cells": [
  {
   "cell_type": "code",
   "execution_count": 1,
   "id": "72dd85ba",
   "metadata": {},
   "outputs": [],
   "source": [
    "import dill\n",
    "from mlcm import mlcm"
   ]
  },
  {
   "cell_type": "code",
   "execution_count": 2,
   "id": "2b11bbec",
   "metadata": {},
   "outputs": [],
   "source": [
    "with open(\"./../figures/mlcm\", \"rb\") as f:\n",
    "    true, pred = dill.load(f)"
   ]
  },
  {
   "cell_type": "code",
   "execution_count": 3,
   "id": "8a87524b",
   "metadata": {},
   "outputs": [
    {
     "name": "stdout",
     "output_type": "stream",
     "text": [
      "MLCM has one extra row (NTL) and one extra column (NPL).        \n",
      "Please read the following paper for more information:\n",
      "        Heydarian et al., MLCM: Multi-Label Confusion Matrix, IEEE Access,2022        \n",
      "To skip this message, please add parameter \"print_note=False\"\n",
      "        e.g., conf_mat,normal_conf_mat = mlcm.cm(label_true,label_pred,False)\n",
      "\n",
      "Raw confusion Matrix:\n",
      "[[326   0   0 ...   0   0   0]\n",
      " [  0  56   0 ...   0   0   0]\n",
      " [  0   0 115 ...   0   0   0]\n",
      " ...\n",
      " [  0   0   0 ...   0   2   0]\n",
      " [  0   0   0 ...  96   4   3]\n",
      " [  0   0   0 ...   0   0   0]]\n",
      "(73, 74)\n",
      "\n",
      "Normalized confusion Matrix (%):\n",
      "[[97.  0.  0. ...  0.  0.  0.]\n",
      " [ 0. 98.  0. ...  0.  0.  0.]\n",
      " [ 0.  0. 62. ...  0.  0.  0.]\n",
      " ...\n",
      " [ 0.  0.  0. ...  0.  3.  0.]\n",
      " [ 0.  0.  0. ... 87.  4.  3.]\n",
      " [ 0.  0.  0. ...  0.  0.  0.]]\n",
      "(73, 74)\n"
     ]
    }
   ],
   "source": [
    "conf_mat,normal_conf_mat = mlcm.cm(true.values,pred.values)\n",
    "print('\\nRaw confusion Matrix:')\n",
    "print(conf_mat)\n",
    "print(conf_mat.shape)\n",
    "print('\\nNormalized confusion Matrix (%):')\n",
    "print(normal_conf_mat)\n",
    "print(normal_conf_mat.shape)"
   ]
  },
  {
   "cell_type": "code",
   "execution_count": 4,
   "id": "109856a3",
   "metadata": {},
   "outputs": [],
   "source": [
    "with open(\"./../figures/mlcm_confmat.dill\", \"wb\") as f:\n",
    "    dill.dump((conf_mat, normal_conf_mat), f)"
   ]
  },
  {
   "cell_type": "code",
   "execution_count": null,
   "id": "4a121479",
   "metadata": {},
   "outputs": [],
   "source": []
  }
 ],
 "metadata": {
  "kernelspec": {
   "display_name": "mlcm",
   "language": "python",
   "name": "python3"
  },
  "language_info": {
   "codemirror_mode": {
    "name": "ipython",
    "version": 3
   },
   "file_extension": ".py",
   "mimetype": "text/x-python",
   "name": "python",
   "nbconvert_exporter": "python",
   "pygments_lexer": "ipython3",
   "version": "3.8.20"
  }
 },
 "nbformat": 4,
 "nbformat_minor": 5
}
