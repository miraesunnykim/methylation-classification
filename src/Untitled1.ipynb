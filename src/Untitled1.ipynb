{
 "cells": [
  {
   "cell_type": "code",
   "execution_count": 1,
   "id": "2a29086b-0b39-4f87-b463-ddff51a371af",
   "metadata": {},
   "outputs": [
    {
     "name": "stdout",
     "output_type": "stream",
     "text": [
      "loading Mv, meta, mapping from ./../data/GEO/preprocessed/450K_Mvalues_atleast2_samplewise\n",
      "(2604,)\n"
     ]
    }
   ],
   "source": [
    "import warnings\n",
    "warnings.filterwarnings('ignore')\n",
    "import joblib\n",
    "import sys\n",
    "sys.modules['sklearn.externals.joblib'] = joblib\n",
    "sys.path.append('./../src/')\n",
    "import dill\n",
    "from sklearn.svm import SVC\n",
    "from sklearn.multioutput import MultiOutputClassifier\n",
    "from sklearn.metrics import f1_score\n",
    "from sklearn.preprocessing import MultiLabelBinarizer, LabelEncoder\n",
    "import matplotlib.pyplot as plt\n",
    "from mplearn.feature_selection._adaptive_stable_minipatch_selection import AdaSTAMPS\n",
    "from mplearn.feature_selection.base_selector import DecisionTreeSelector\n",
    "\n",
    "import pandas as pd\n",
    "import networkx as nx\n",
    "import utils\n",
    "import pickle\n",
    "import numpy as np\n",
    "import random\n",
    "import io\n",
    "\n",
    "random.seed(9)\n",
    "np.random.seed(9)\n",
    "\n",
    "date = \"sep2024\"\n",
    "atleast = 2\n",
    "subtree = nx.read_multiline_adjlist(path=f\"uberon_{date}_atleast{atleast}_adjlist\",create_using=nx.MultiDiGraph)\n",
    "mlb = MultiLabelBinarizer().fit([[utils.id_to_name[node] for node in subtree.nodes]])\n",
    "\n",
    "Mv_location = f\"./../data/GEO/preprocessed/450K_Mvalues_atleast{atleast}_samplewise\"\n",
    "print(f\"loading Mv, meta, mapping from {Mv_location}\")\n",
    "Mv, meta, mapping = dill.load(open(Mv_location, 'rb'))\n",
    "\n",
    "le = LabelEncoder().fit(meta['tissue_name'].unique())\n",
    "meta_le = le.transform(meta['tissue_name'].values)\n",
    "\n",
    "print(meta_le.shape)\n",
    "# print(le.classes_)"
   ]
  },
  {
   "cell_type": "code",
   "execution_count": null,
   "id": "e8585407-0b2e-45b3-80de-e97a4bf9f2f8",
   "metadata": {},
   "outputs": [],
   "source": []
  }
 ],
 "metadata": {
  "kernelspec": {
   "display_name": "methyl",
   "language": "python",
   "name": "methyl"
  },
  "language_info": {
   "codemirror_mode": {
    "name": "ipython",
    "version": 3
   },
   "file_extension": ".py",
   "mimetype": "text/x-python",
   "name": "python",
   "nbconvert_exporter": "python",
   "pygments_lexer": "ipython3",
   "version": "3.8.19"
  }
 },
 "nbformat": 4,
 "nbformat_minor": 5
}
